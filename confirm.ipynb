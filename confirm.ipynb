{
 "cells": [
  {
   "cell_type": "code",
   "execution_count": 1,
   "metadata": {},
   "outputs": [],
   "source": [
    "import torch"
   ]
  },
  {
   "cell_type": "code",
   "execution_count": 42,
   "metadata": {},
   "outputs": [],
   "source": [
    "data = torch.load(\"save_model/Beauty/MELT_FMLP_Beauty.pth\", map_location='cpu')\n"
   ]
  },
  {
   "attachments": {},
   "cell_type": "markdown",
   "metadata": {},
   "source": [
    "# FMLP"
   ]
  },
  {
   "cell_type": "code",
   "execution_count": 7,
   "metadata": {},
   "outputs": [
    {
     "data": {
      "text/plain": [
       "odict_keys(['item_embeddings.weight', 'position_embeddings.weight', 'LayerNorm.weight', 'LayerNorm.bias', 'item_encoder.layer.0.filterlayer.complex_weight', 'item_encoder.layer.0.filterlayer.LayerNorm.weight', 'item_encoder.layer.0.filterlayer.LayerNorm.bias', 'item_encoder.layer.0.intermediate.dense_1.weight', 'item_encoder.layer.0.intermediate.dense_1.bias', 'item_encoder.layer.0.intermediate.dense_2.weight', 'item_encoder.layer.0.intermediate.dense_2.bias', 'item_encoder.layer.0.intermediate.LayerNorm.weight', 'item_encoder.layer.0.intermediate.LayerNorm.bias', 'item_encoder.layer.1.filterlayer.complex_weight', 'item_encoder.layer.1.filterlayer.LayerNorm.weight', 'item_encoder.layer.1.filterlayer.LayerNorm.bias', 'item_encoder.layer.1.intermediate.dense_1.weight', 'item_encoder.layer.1.intermediate.dense_1.bias', 'item_encoder.layer.1.intermediate.dense_2.weight', 'item_encoder.layer.1.intermediate.dense_2.bias', 'item_encoder.layer.1.intermediate.LayerNorm.weight', 'item_encoder.layer.1.intermediate.LayerNorm.bias', 'user_branch.user_transfer.weight', 'user_branch.user_transfer.bias', 'item_branch.context2embed.weight', 'item_branch.context2embed.bias'])"
      ]
     },
     "execution_count": 7,
     "metadata": {},
     "output_type": "execute_result"
    }
   ],
   "source": [
    "data.keys()"
   ]
  },
  {
   "cell_type": "code",
   "execution_count": 43,
   "metadata": {},
   "outputs": [],
   "source": [
    "data['user_branch.W_U.weight'] = data['user_branch.user_transfer.weight']\n",
    "data['user_branch.W_U.bias'] = data['user_branch.user_transfer.bias']\n",
    "data['item_branch.W_I.bias'] = data['item_branch.context2embed.bias']\n",
    "data['item_branch.W_I.weight'] = data['item_branch.context2embed.weight']\n",
    "del data['user_branch.user_transfer.weight']\n",
    "del data['user_branch.user_transfer.bias']\n",
    "del data['item_branch.context2embed.bias']\n",
    "del data['item_branch.context2embed.weight']"
   ]
  },
  {
   "attachments": {},
   "cell_type": "markdown",
   "metadata": {},
   "source": [
    "# SASRec"
   ]
  },
  {
   "cell_type": "code",
   "execution_count": 19,
   "metadata": {},
   "outputs": [],
   "source": [
    "data['user_branch.W_U.weight'] = data['user_branch.user_transfer.weight']\n",
    "data['user_branch.W_U.bias'] = data['user_branch.user_transfer.bias']\n",
    "data['item_branch.W_I.bias'] = data['embed_encoder.context2embed.bias']\n",
    "data['item_branch.W_I.weight'] = data['embed_encoder.context2embed.weight']\n",
    "del data['user_branch.user_transfer.weight']\n",
    "del data['user_branch.user_transfer.bias']\n",
    "del data['embed_encoder.context2embed.bias']\n",
    "del data['embed_encoder.context2embed.weight']"
   ]
  },
  {
   "cell_type": "code",
   "execution_count": 44,
   "metadata": {},
   "outputs": [],
   "source": [
    "torch.save(data, 'save_model/Beauty/MELT_FMLP_Beauty.pth')\n"
   ]
  },
  {
   "cell_type": "code",
   "execution_count": 18,
   "metadata": {},
   "outputs": [
    {
     "data": {
      "text/plain": [
       "['item_embeddings.weight',\n",
       " 'position_embeddings.weight',\n",
       " 'LayerNorm.weight',\n",
       " 'LayerNorm.bias',\n",
       " 'item_encoder.layer.0.filterlayer.complex_weight',\n",
       " 'item_encoder.layer.0.filterlayer.LayerNorm.weight',\n",
       " 'item_encoder.layer.0.filterlayer.LayerNorm.bias',\n",
       " 'item_encoder.layer.0.intermediate.dense_1.weight',\n",
       " 'item_encoder.layer.0.intermediate.dense_1.bias',\n",
       " 'item_encoder.layer.0.intermediate.dense_2.weight',\n",
       " 'item_encoder.layer.0.intermediate.dense_2.bias',\n",
       " 'item_encoder.layer.0.intermediate.LayerNorm.weight',\n",
       " 'item_encoder.layer.0.intermediate.LayerNorm.bias',\n",
       " 'item_encoder.layer.1.filterlayer.complex_weight',\n",
       " 'item_encoder.layer.1.filterlayer.LayerNorm.weight',\n",
       " 'item_encoder.layer.1.filterlayer.LayerNorm.bias',\n",
       " 'item_encoder.layer.1.intermediate.dense_1.weight',\n",
       " 'item_encoder.layer.1.intermediate.dense_1.bias',\n",
       " 'item_encoder.layer.1.intermediate.dense_2.weight',\n",
       " 'item_encoder.layer.1.intermediate.dense_2.bias',\n",
       " 'item_encoder.layer.1.intermediate.LayerNorm.weight',\n",
       " 'item_encoder.layer.1.intermediate.LayerNorm.bias',\n",
       " 'user_branch.W_U.weight',\n",
       " 'user_branch.W_U.bias',\n",
       " 'item_branch.W_I.bias',\n",
       " 'item_branch.W_I.weight']"
      ]
     },
     "execution_count": 18,
     "metadata": {},
     "output_type": "execute_result"
    }
   ],
   "source": [
    "list(data.keys())"
   ]
  }
 ],
 "metadata": {
  "kernelspec": {
   "display_name": "melt",
   "language": "python",
   "name": "python3"
  },
  "language_info": {
   "codemirror_mode": {
    "name": "ipython",
    "version": 3
   },
   "file_extension": ".py",
   "mimetype": "text/x-python",
   "name": "python",
   "nbconvert_exporter": "python",
   "pygments_lexer": "ipython3",
   "version": "3.9.12"
  },
  "orig_nbformat": 4
 },
 "nbformat": 4,
 "nbformat_minor": 2
}
